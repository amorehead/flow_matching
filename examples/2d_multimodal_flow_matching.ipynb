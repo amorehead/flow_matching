{
 "cells": [
  {
   "cell_type": "markdown",
   "id": "381ea8d5",
   "metadata": {},
   "source": [
    "# A simple 2D Multimodal Flow Matching model"
   ]
  },
  {
   "cell_type": "markdown",
   "id": "0c0a75af",
   "metadata": {},
   "source": [
    "This notebook trains and evaluates a multimodal FM model that jointly handles\n",
    "a discrete modality (categorical data) and a continuous modality (real‑valued 2‑D data).\n",
    "\n",
    "Dataset: 2D discrete/continuous checkerboard\n",
    "Model (probability denoiser/velocity): MLPs for each modality and a shared Transformer trunk"
   ]
  },
  {
   "cell_type": "markdown",
   "id": "b5c941fc",
   "metadata": {},
   "source": [
    "## Imports and init device"
   ]
  },
  {
   "cell_type": "code",
   "execution_count": 1,
   "id": "e7758331",
   "metadata": {},
   "outputs": [],
   "source": [
    "import time\n",
    "import torch\n",
    "from torch import nn, Tensor\n",
    "\n",
    "# flow_matching\n",
    "from flow_matching.utils.multimodal import Flow\n",
    "from flow_matching.path.scheduler import (\n",
    "    PolynomialConvexScheduler,  # discrete scheduler (training)\n",
    "    CondOTScheduler,  # continuous scheduler (training)\n",
    ")\n",
    "from flow_matching.path import MixtureDiscreteProbPath, AffineProbPath\n",
    "\n",
    "# visualization\n",
    "import matplotlib.pyplot as plt\n",
    "\n",
    "# To avoide meshgrid warning\n",
    "import warnings\n",
    "\n",
    "warnings.filterwarnings(\"ignore\", category=UserWarning, module='torch')"
   ]
  },
  {
   "cell_type": "code",
   "execution_count": 2,
   "id": "10957ca3",
   "metadata": {},
   "outputs": [
    {
     "name": "stdout",
     "output_type": "stream",
     "text": [
      "Using MPS\n"
     ]
    }
   ],
   "source": [
    "if torch.cuda.is_available():\n",
    "    device = \"cuda:0\"\n",
    "    print(\"Using GPU\")\n",
    "elif torch.backends.mps.is_available():\n",
    "    device = \"mps\"\n",
    "    print(\"Using MPS\")\n",
    "else:\n",
    "    device = \"cpu\"\n",
    "    print(\"Using CPU\")"
   ]
  },
  {
   "cell_type": "code",
   "execution_count": 3,
   "id": "0491f488",
   "metadata": {},
   "outputs": [
    {
     "data": {
      "text/plain": [
       "<torch._C.Generator at 0x1173976f0>"
      ]
     },
     "execution_count": 3,
     "metadata": {},
     "output_type": "execute_result"
    }
   ],
   "source": [
    "torch.manual_seed(42)"
   ]
  },
  {
   "cell_type": "markdown",
   "id": "b2ff4e5f",
   "metadata": {},
   "source": [
    "## Shared model"
   ]
  },
  {
   "cell_type": "code",
   "execution_count": 4,
   "id": "1321dec5",
   "metadata": {},
   "outputs": [],
   "source": [
    "class SharedTransformer(nn.Module):\n",
    "    \"\"\"\n",
    "    Shared Transformer trunk used by both modalities.\n",
    "    \"\"\"\n",
    "    def __init__(self, hidden_dim: int = 128, nhead: int = 4, num_layers: int = 2):\n",
    "        super().__init__()\n",
    "        encoder_layer = nn.TransformerEncoderLayer(d_model=hidden_dim, nhead=nhead)\n",
    "        self.transformer = nn.TransformerEncoder(encoder_layer, num_layers=num_layers)\n",
    "\n",
    "    def forward(self, x: Tensor) -> Tensor:\n",
    "        \"\"\"\n",
    "        x: (seq_len, batch, hidden_dim)\n",
    "        Returns transformed tensor of same shape.\n",
    "        \"\"\"\n",
    "        return self.transformer(x)"
   ]
  },
  {
   "cell_type": "markdown",
   "id": "af22ef56",
   "metadata": {},
   "source": [
    "## Discrete modality dataset and model"
   ]
  },
  {
   "cell_type": "code",
   "execution_count": 5,
   "id": "b2466329",
   "metadata": {},
   "outputs": [],
   "source": [
    "def inf_train_gen_discrete(\n",
    "    n_grid_points: int = 128,\n",
    "    batch_size: int = 200,\n",
    "    device: str = \"cpu\",\n",
    ") -> Tensor:\n",
    "    \"\"\"\n",
    "    Generate a batch of discrete (categorical) samples.\n",
    "    Returns a tensor of shape (batch, 2) with integer token IDs.\n",
    "    \"\"\"\n",
    "    assert n_grid_points % 4 == 0, \"grid size must be divisible by 4\"\n",
    "    n_grid_points //= 4\n",
    "\n",
    "    x1 = torch.randint(low=0, high=n_grid_points * 4, size=(batch_size,), device=device)\n",
    "    samples_x2 = torch.randint(\n",
    "        low=0, high=n_grid_points, size=(batch_size,), device=device\n",
    "    )\n",
    "\n",
    "    x2 = (\n",
    "        samples_x2\n",
    "        + 2 * n_grid_points\n",
    "        - torch.randint(low=0, high=2, size=(batch_size,), device=device)\n",
    "        * 2\n",
    "        * n_grid_points\n",
    "        + (torch.floor(x1 / n_grid_points) % 2) * n_grid_points\n",
    "    )\n",
    "    return torch.stack([x1, x2], dim=1).long()\n",
    "\n",
    "\n",
    "class Swish(nn.Module):\n",
    "    \"\"\"Swish activation (x * sigmoid(x)).\"\"\"\n",
    "\n",
    "    def forward(self, x: Tensor) -> Tensor:\n",
    "        return torch.sigmoid(x) * x\n",
    "\n",
    "\n",
    "class DiscreteTransformerModel(nn.Module):\n",
    "    \"\"\"\n",
    "    Model for the discrete modality with separate input and output heads,\n",
    "    sharing a common Transformer trunk.\n",
    "    \"\"\"\n",
    "    def __init__(\n",
    "        self,\n",
    "        shared_transformer: SharedTransformer,\n",
    "        vocab_size: int = 128,\n",
    "        time_dim: int = 1,\n",
    "        hidden_dim: int = 128,\n",
    "        length: int = 2,\n",
    "    ):\n",
    "        super().__init__()\n",
    "        self.shared = shared_transformer\n",
    "        self.input_dim = vocab_size\n",
    "        self.time_dim = time_dim\n",
    "        self.hidden_dim = hidden_dim\n",
    "        self.length = length\n",
    "\n",
    "        self.time_embedding = nn.Linear(1, time_dim)\n",
    "        self.token_embedding = nn.Embedding(vocab_size, hidden_dim)\n",
    "        self.input_proj = nn.Linear(hidden_dim + time_dim, hidden_dim)\n",
    "        self.output_head = nn.Linear(hidden_dim, vocab_size)\n",
    "        self.activation = Swish()\n",
    "\n",
    "    def sample_shape(self, batch_size: int) -> torch.Size:\n",
    "        return torch.Size((batch_size, self.length))\n",
    "\n",
    "    def sample_prior(self, shape: torch.Size, device: torch.device) -> Tensor:\n",
    "        return torch.randint(low=0, high=self.input_dim, size=shape, device=device)\n",
    "\n",
    "    def forward(self, x: Tensor, t: Tensor) -> Tensor:\n",
    "        \"\"\"\n",
    "        x: (B, length) integer token IDs\n",
    "        t: (B,) time scalar\n",
    "        Returns logits of shape (B, length, vocab_size or input_dim)\n",
    "        \"\"\"\n",
    "        if t.ndim == 0:\n",
    "            t = t.unsqueeze(0).expand(x.shape[0])\n",
    "\n",
    "        # Token embedding\n",
    "        x_emb = self.token_embedding(x)  # (B, length, hidden_dim)\n",
    "\n",
    "        # Time embedding\n",
    "        t_emb = self.time_embedding(t.unsqueeze(-1).float())  # (B, time_dim)\n",
    "        t_emb = t_emb.unsqueeze(1).expand(-1, self.length, -1)  # (B, length, time_dim)\n",
    "\n",
    "        # Concatenate and project\n",
    "        h = torch.cat([x_emb, t_emb], dim=-1)  # (B, length, hidden_dim+time_dim)\n",
    "        h = self.input_proj(h)  # (B, length, hidden_dim)\n",
    "\n",
    "        # Transformer expects (seq_len, batch, hidden_dim)\n",
    "        h = h.permute(1, 0, 2)  # (length, B, hidden_dim)\n",
    "        h = self.shared(h)  # (length, B, hidden_dim)\n",
    "        h = h.permute(1, 0, 2)  # (B, length, hidden_dim)\n",
    "\n",
    "        # Output logits\n",
    "        h = self.activation(h)\n",
    "        logits = self.output_head(h)  # (B, length, vocab_size or input_dim)\n",
    "        return logits"
   ]
  },
  {
   "cell_type": "markdown",
   "id": "e1faf8fd",
   "metadata": {},
   "source": [
    "# Continuous modality dataset and model"
   ]
  },
  {
   "cell_type": "code",
   "execution_count": 6,
   "id": "a3517fbc",
   "metadata": {},
   "outputs": [],
   "source": [
    "def inf_train_gen_continuous(batch_size: int = 200, device: str = \"cpu\") -> Tensor:\n",
    "    \"\"\"\n",
    "    Generate a batch of 2-D continuous points from a checkerboard-like distribution.\n",
    "    Returns a tensor of shape (batch, 2).\n",
    "    \"\"\"\n",
    "    x1 = torch.rand(batch_size, device=device) * 4 - 2\n",
    "    x2_ = (\n",
    "        torch.rand(batch_size, device=device)\n",
    "        - torch.randint(high=2, size=(batch_size,), device=device) * 2\n",
    "    )\n",
    "    x2 = x2_ + (torch.floor(x1) % 2)\n",
    "    data = torch.stack([x1, x2], dim=1) / 0.45\n",
    "    return data.float()\n",
    "\n",
    "\n",
    "class ContinuousTransformerModel(nn.Module):\n",
    "    \"\"\"\n",
    "    Model for the continuous modality with separate input and output heads,\n",
    "    sharing a common Transformer trunk.\n",
    "    \"\"\"\n",
    "    def __init__(\n",
    "        self,\n",
    "        shared_transformer: SharedTransformer,\n",
    "        input_dim: int = 2,\n",
    "        time_dim: int = 1,\n",
    "        hidden_dim: int = 128,\n",
    "    ):\n",
    "        super().__init__()\n",
    "        self.shared = shared_transformer\n",
    "        self.input_dim = input_dim\n",
    "        self.time_dim = time_dim\n",
    "        self.hidden_dim = hidden_dim\n",
    "\n",
    "        self.time_embedding = nn.Linear(1, time_dim)\n",
    "        self.position_proj = nn.Linear(input_dim, hidden_dim)\n",
    "        self.input_proj = nn.Linear(hidden_dim + time_dim, hidden_dim)\n",
    "        self.output_head = nn.Linear(hidden_dim, input_dim)\n",
    "        self.activation = Swish()\n",
    "\n",
    "    def sample_shape(self, batch_size: int) -> torch.Size:\n",
    "        return torch.Size((batch_size, self.input_dim))\n",
    "\n",
    "    def sample_prior(self, shape: torch.Size, device: torch.device) -> Tensor:\n",
    "        return torch.randn(shape, device=device)\n",
    "\n",
    "    def forward(self, x: Tensor, t: Tensor) -> Tensor:\n",
    "        \"\"\"\n",
    "        x: (B, input_dim) positions\n",
    "        t: (B,) time scalar\n",
    "        Returns velocity vectors of shape (B, input_dim)\n",
    "        \"\"\"\n",
    "        if t.ndim == 0:\n",
    "            t = t.unsqueeze(0).expand(x.shape[0])\n",
    "\n",
    "        # Position projection\n",
    "        x_emb = self.position_proj(x)  # (B, hidden_dim)\n",
    "\n",
    "        # Time embedding\n",
    "        t_emb = self.time_embedding(t.unsqueeze(-1).float())  # (B, time_dim)\n",
    "\n",
    "        # Concatenate and project\n",
    "        h = torch.cat([x_emb, t_emb], dim=-1)  # (B, hidden_dim+time_dim)\n",
    "        h = self.input_proj(h)  # (B, hidden_dim)\n",
    "\n",
    "        # Transformer expects (seq_len, batch, hidden_dim) with seq_len=1\n",
    "        h = h.unsqueeze(0)  # (1, B, hidden_dim)\n",
    "        h = self.shared(h)  # (1, B, hidden_dim)\n",
    "        h = h.squeeze(0)  # (B, hidden_dim)\n",
    "\n",
    "        # Output velocity\n",
    "        h = self.activation(h)\n",
    "        velocity = self.output_head(h)  # (B, input_dim)\n",
    "        return velocity"
   ]
  },
  {
   "cell_type": "markdown",
   "id": "d5378557",
   "metadata": {},
   "source": [
    "## Build multimodal model"
   ]
  },
  {
   "cell_type": "code",
   "execution_count": 7,
   "id": "9b0e8daa",
   "metadata": {},
   "outputs": [],
   "source": [
    "# ---- Discrete side -------------------------------------------------\n",
    "vocab_size = 128\n",
    "added_token = 0  # uniform source distribution → no extra token\n",
    "vocab_size += added_token\n",
    "length = 2  # 2 tokens per sample\n",
    "\n",
    "# Shared transformer trunk\n",
    "shared_transformer = SharedTransformer(hidden_dim=128, nhead=4, num_layers=2).to(device)\n",
    "\n",
    "discrete_model = DiscreteTransformerModel(\n",
    "    shared_transformer=shared_transformer,\n",
    "    vocab_size=vocab_size,\n",
    "    time_dim=1,\n",
    "    hidden_dim=128,\n",
    "    length=length,\n",
    ").to(device)\n",
    "discrete_path = MixtureDiscreteProbPath(scheduler=PolynomialConvexScheduler(n=2.0))\n",
    "\n",
    "# ---- Continuous side -----------------------------------------------\n",
    "continuous_model = ContinuousTransformerModel(\n",
    "    shared_transformer=shared_transformer,\n",
    "    input_dim=length,\n",
    "    time_dim=1,\n",
    "    hidden_dim=128,\n",
    ").to(device)\n",
    "continuous_path = AffineProbPath(scheduler=CondOTScheduler())\n",
    "\n",
    "# ---- Assemble modalities dict ---------------------------------------\n",
    "modalities = {\n",
    "    \"discrete\": {\n",
    "        \"model\": discrete_model,\n",
    "        \"path\": discrete_path,\n",
    "        # loss omitted → Flow will use MixturePathGeneralizedKL automatically\n",
    "    },\n",
    "    \"continuous\": {\n",
    "        \"model\": continuous_model,\n",
    "        \"path\": continuous_path,\n",
    "        # loss omitted → Flow will use MSE loss automatically\n",
    "    },\n",
    "}"
   ]
  },
  {
   "cell_type": "markdown",
   "id": "b82a25cc",
   "metadata": {},
   "source": [
    "## Instantiate the multimodal Flow model"
   ]
  },
  {
   "cell_type": "code",
   "execution_count": 8,
   "id": "9f2ccedd",
   "metadata": {},
   "outputs": [],
   "source": [
    "flow = Flow(modalities=modalities)\n",
    "\n",
    "# Optimizer (optimises both modality models)\n",
    "optimizer = torch.optim.Adam(flow.parameters(), lr=1e-3)"
   ]
  },
  {
   "cell_type": "markdown",
   "id": "2636f3a4",
   "metadata": {},
   "source": [
    "## Training loop"
   ]
  },
  {
   "cell_type": "code",
   "execution_count": 9,
   "id": "646de9a8",
   "metadata": {},
   "outputs": [
    {
     "name": "stdout",
     "output_type": "stream",
     "text": [
      "| iter   3000 |  9.83 ms/step | loss    9.204 \n",
      "| iter   6000 | 10.00 ms/step | loss    9.772 \n",
      "| iter   9000 | 10.02 ms/step | loss    9.799 \n",
      "| iter  12000 | 10.02 ms/step | loss    8.503 \n"
     ]
    }
   ],
   "source": [
    "lr = 1e-3\n",
    "batch_size = 1024 # adjust as needed to fit in memory\n",
    "iterations = 12001\n",
    "print_every = 3000\n",
    "epsilon = 1e-3\n",
    "\n",
    "source_distribution = \"uniform\"  # for the discrete modality\n",
    "\n",
    "start_time = time.time()\n",
    "for i in range(iterations):\n",
    "    optimizer.zero_grad()\n",
    "\n",
    "    # ---- Discrete data -------------------------------------------------\n",
    "    x1_disc = inf_train_gen_discrete(\n",
    "        n_grid_points=vocab_size - added_token,\n",
    "        batch_size=batch_size,\n",
    "        device=device,\n",
    "    )\n",
    "    if source_distribution == \"uniform\":\n",
    "        x0_disc = torch.randint_like(x1_disc, high=vocab_size)\n",
    "    else:  # mask case (not used here)\n",
    "        raise NotImplementedError\n",
    "\n",
    "    # ---- Continuous data -----------------------------------------------\n",
    "    x1_cont = inf_train_gen_continuous(batch_size=batch_size, device=device)\n",
    "    x0_cont = torch.randn_like(x1_cont)  # isotropic Gaussian prior\n",
    "\n",
    "    # ---- Sample a common time tensor for both modalities ---------------\n",
    "    t = torch.rand(batch_size, device=device) * (1 - epsilon)\n",
    "\n",
    "    # ---- Sample from each path to obtain x_t ---------------------------\n",
    "    disc_path_sample = discrete_path.sample(t=t, x_0=x0_disc, x_1=x1_disc)\n",
    "    cont_path_sample = continuous_path.sample(t=t, x_0=x0_cont, x_1=x1_cont)\n",
    "\n",
    "    # ---- Build the inputs dict expected by Flow.training_loss -----------\n",
    "    inputs = {\n",
    "        \"discrete\": (x1_disc, disc_path_sample.x_t, None),  # dx_t is None for discrete\n",
    "        \"continuous\": (x1_cont, cont_path_sample.x_t, cont_path_sample.dx_t),\n",
    "    }\n",
    "\n",
    "    # ---- Compute total loss and back‑propagate -------------------------\n",
    "    loss = flow.training_loss(inputs=inputs, t=t)\n",
    "    loss.backward()\n",
    "    optimizer.step()\n",
    "\n",
    "    # ---- Logging -------------------------------------------------------\n",
    "    if (i + 1) % print_every == 0:\n",
    "        elapsed = time.time() - start_time\n",
    "        print(\n",
    "            f\"| iter {i+1:6d} | {elapsed*1000/print_every:5.2f} ms/step | loss {loss.item():8.3f} \"\n",
    "        )\n",
    "        start_time = time.time()"
   ]
  },
  {
   "cell_type": "markdown",
   "id": "e87e944d",
   "metadata": {},
   "source": [
    "## Sampling from the trained multimodal model"
   ]
  },
  {
   "cell_type": "code",
   "execution_count": 10,
   "id": "e2aab2d8",
   "metadata": {},
   "outputs": [],
   "source": [
    "flow.eval()  # switch to eval mode for sampling\n",
    "samples = flow.sample(batch_size=2_000, device=device, steps=1000)"
   ]
  },
  {
   "cell_type": "markdown",
   "id": "2bceb4bb",
   "metadata": {},
   "source": [
    "## Visualization"
   ]
  },
  {
   "cell_type": "code",
   "execution_count": 11,
   "id": "43dc2909",
   "metadata": {},
   "outputs": [
    {
     "data": {
      "image/png": "[encoded data removed]",
      "text/plain": [
       "<Figure size 600x500 with 2 Axes>"
      ]
     },
     "metadata": {},
     "output_type": "display_data"
    },
    {
     "data": {
      "image/png": "[encoded data removed]",
      "text/plain": [
       "<Figure size 600x500 with 2 Axes>"
      ]
     },
     "metadata": {},
     "output_type": "display_data"
    }
   ],
   "source": [
    "# ---- Discrete modality -------------------------------------------------\n",
    "discrete_samples = samples[\"discrete\"].cpu().numpy()  # shape (N, 2) integer tokens\n",
    "vocab = vocab_size\n",
    "\n",
    "# Plot a 2‑D histogram of the discrete samples\n",
    "plt.figure(figsize=(6, 5))\n",
    "plt.hist2d(\n",
    "    discrete_samples[:, 0],\n",
    "    discrete_samples[:, 1],\n",
    "    bins=vocab,\n",
    "    cmap=\"viridis\",\n",
    ")\n",
    "plt.title(\"Discrete modality samples (token histogram)\")\n",
    "plt.xlabel(\"Token 1\")\n",
    "plt.ylabel(\"Token 2\")\n",
    "plt.colorbar(label=\"Count\")\n",
    "plt.tight_layout()\n",
    "plt.show()\n",
    "\n",
    "# ---- Continuous modality -----------------------------------------------\n",
    "continuous_samples = samples[\"continuous\"].cpu().numpy()  # shape (N, 2)\n",
    "\n",
    "# Plot a 2‑D histogram of the continuous samples\n",
    "plt.figure(figsize=(6, 5))\n",
    "plt.hist2d(\n",
    "    continuous_samples[:, 0],\n",
    "    continuous_samples[:, 1],\n",
    "    bins=200,\n",
    "    cmap=\"viridis\",\n",
    ")\n",
    "plt.title(\"Continuous modality samples (2-D density)\")\n",
    "plt.xlabel(\"x₁\")\n",
    "plt.ylabel(\"x₂\")\n",
    "plt.colorbar(label=\"Count\")\n",
    "plt.tight_layout()\n",
    "plt.show()"
   ]
  }
 ],
 "metadata": {
  "jupytext": {
   "cell_metadata_filter": "-all",
   "main_language": "python",
   "notebook_metadata_filter": "-all"
  },
  "kernelspec": {
   "display_name": "flow_matching",
   "language": "python",
   "name": "python3"
  },
  "language_info": {
   "codemirror_mode": {
    "name": "ipython",
    "version": 3
   },
   "file_extension": ".py",
   "mimetype": "text/x-python",
   "name": "python",
   "nbconvert_exporter": "python",
   "pygments_lexer": "ipython3",
   "version": "3.10.18"
  }
 },
 "nbformat": 4,
 "nbformat_minor": 5
}
